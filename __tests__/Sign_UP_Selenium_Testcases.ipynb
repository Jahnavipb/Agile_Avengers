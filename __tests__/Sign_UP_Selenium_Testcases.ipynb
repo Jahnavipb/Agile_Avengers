{
 "cells": [
  {
   "cell_type": "code",
   "execution_count": 1,
   "id": "81788959",
   "metadata": {},
   "outputs": [],
   "source": [
    "#SIGN_UP\n",
    "from selenium import webdriver\n",
    "from selenium.webdriver.common.by import By\n",
    "import time\n",
    "from selenium.webdriver.common.keys import Keys\n",
    "from selenium.webdriver.support.wait import WebDriverWait\n",
    "from selenium.webdriver.support import expected_conditions as EC\n",
    "from selenium.webdriver.common.alert import Alert\n",
    "from selenium.webdriver.support.select import Select\n",
    "\n",
    "driver = webdriver.Chrome()\n",
    "\n",
    "# Navigate to the website\n",
    "driver.get('Website URL')\n",
    "\n",
    "driver.maximize_window()\n",
    "\n",
    "signup = driver.find_element(By.LINK_TEXT, \"Sign Up\")\n",
    "time.sleep(2)\n",
    "driver.execute_script(\"arguments[0].click()\",signup)\n",
    "time.sleep(2)\n",
    "dropdown1 = Select(driver.find_element(By.ID,\"user-type\"))\n",
    "dropdown1.select_by_index(2)\n",
    "time.sleep(2)\n",
    "driver.find_element(By.ID,\"name\").send_keys(\"Alice\")\n",
    "time.sleep(2)\n",
    "driver.find_element(By.ID,\"email\").send_keys(\"alice28@gmail.com\")\n",
    "time.sleep(2)\n",
    "driver.find_element(By.ID,\"phone\").send_keys(\"1234567890\")\n",
    "time.sleep(2)\n",
    "driver.find_element(By.ID,\"address\").send_keys(\"101 greene st, 07034\")\n",
    "time.sleep(2)\n",
    "driver.find_element(By.ID,\"password\").send_keys(\"Alice@345\")\n",
    "time.sleep(2)\n",
    "driver.find_element(By.ID,\"retype-password\").send_keys(\"Alice@345\")\n",
    "time.sleep(2)\n",
    "driver.find_element(By.TAG_NAME,value=\"body\").send_keys(Keys.PAGE_DOWN)\n",
    "time.sleep(2)\n",
    "sbutton = driver.find_element(By.ID,\"submit-button\")\n",
    "time.sleep(2)\n",
    "driver.execute_script(\"arguments[0].click()\",sbutton)\n",
    "time.sleep(2)\n",
    "\n",
    "#Closing the browser\n",
    "driver.quit()"
   ]
  },
  {
   "cell_type": "code",
   "execution_count": null,
   "id": "1936e631",
   "metadata": {},
   "outputs": [],
   "source": []
  }
 ],
 "metadata": {
  "kernelspec": {
   "display_name": "Python 3 (ipykernel)",
   "language": "python",
   "name": "python3"
  },
  "language_info": {
   "codemirror_mode": {
    "name": "ipython",
    "version": 3
   },
   "file_extension": ".py",
   "mimetype": "text/x-python",
   "name": "python",
   "nbconvert_exporter": "python",
   "pygments_lexer": "ipython3",
   "version": "3.9.12"
  }
 },
 "nbformat": 4,
 "nbformat_minor": 5
}
