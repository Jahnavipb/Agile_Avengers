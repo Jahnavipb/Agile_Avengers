{
 "cells": [
  {
   "cell_type": "code",
   "execution_count": null,
   "id": "d4d05b22",
   "metadata": {},
   "outputs": [],
   "source": [
    "#SIGN_IN\n",
    "from selenium import webdriver\n",
    "from selenium.webdriver.common.by import By\n",
    "import time\n",
    "from selenium.webdriver.common.keys import Keys\n",
    "from selenium.webdriver.support.wait import WebDriverWait\n",
    "from selenium.webdriver.support import expected_conditions as EC\n",
    "from selenium.webdriver.common.alert import Alert\n",
    "from selenium.webdriver.support.select import Select\n",
    "\n",
    "driver = webdriver.Chrome()\n",
    "\n",
    "# Navigate to the website\n",
    "driver.get('website URL')\n",
    "\n",
    "driver.maximize_window()\n",
    "\n",
    "signin = driver.find_element(By.LINK_TEXT, \"Sign In\")\n",
    "time.sleep(2)\n",
    "driver.execute_script(\"arguments[0].click()\",signin)\n",
    "time.sleep(2)\n",
    "dropdown2 = Select(driver.find_element(By.ID,\"user-type\"))\n",
    "dropdown2.select_by_index(2)\n",
    "time.sleep(2)\n",
    "driver.find_element(By.ID,\"email\").send_keys(\"alice28@gmail.com\")\n",
    "time.sleep(2)\n",
    "driver.find_element(By.ID,\"password\").send_keys(\"Alice@345\")\n",
    "time.sleep(2)\n",
    "submit = driver.find_element(By.XPATH,'//*[@id=\"signin-form\"]/button')\n",
    "driver.execute_script(\"arguments[0].click()\",submit)\n",
    "time.sleep(2)\n",
    "\n",
    "#Closing the browser\n",
    "driver.quit()"
   ]
  }
 ],
 "metadata": {
  "kernelspec": {
   "display_name": "Python 3 (ipykernel)",
   "language": "python",
   "name": "python3"
  },
  "language_info": {
   "codemirror_mode": {
    "name": "ipython",
    "version": 3
   },
   "file_extension": ".py",
   "mimetype": "text/x-python",
   "name": "python",
   "nbconvert_exporter": "python",
   "pygments_lexer": "ipython3",
   "version": "3.9.12"
  }
 },
 "nbformat": 4,
 "nbformat_minor": 5
}
